{
 "cells": [
  {
   "cell_type": "code",
   "execution_count": 19,
   "id": "initial_id",
   "metadata": {
    "collapsed": true,
    "ExecuteTime": {
     "end_time": "2023-11-25T13:09:10.679690741Z",
     "start_time": "2023-11-25T13:09:10.414394963Z"
    }
   },
   "outputs": [],
   "source": [
    "import torch\n",
    "import sys\n",
    "import numpy as np\n",
    "import os\n",
    "import yaml\n",
    "import matplotlib.pyplot as plt\n",
    "import torchvision\n",
    "\n",
    "sys.path.insert(0, \"../../../\")\n"
   ]
  },
  {
   "cell_type": "markdown",
   "source": [
    "# Evaluation mode"
   ],
   "metadata": {
    "collapsed": false
   },
   "id": "63a7824e511ea29f"
  },
  {
   "cell_type": "code",
   "execution_count": 20,
   "outputs": [],
   "source": [
    "# package for download file from google drive\n",
    "# ! pip uninstall gdown"
   ],
   "metadata": {
    "collapsed": false,
    "ExecuteTime": {
     "end_time": "2023-11-25T13:09:16.499770503Z",
     "start_time": "2023-11-25T13:09:16.473874239Z"
    }
   },
   "id": "7dc2a98e9f0e2533"
  },
  {
   "cell_type": "code",
   "execution_count": 21,
   "outputs": [],
   "source": [
    "# https://drive.google.com/file/d/1yEolUJYvk93S54c1b8zfE22ugVRy06GF/view?usp=drive_link\n",
    "# \"https://drive.google.com/uc?id=0B9P1L--7Wd2vVlpzRkwzYUladms\""
   ],
   "metadata": {
    "collapsed": false,
    "ExecuteTime": {
     "end_time": "2023-11-25T13:09:18.504007410Z",
     "start_time": "2023-11-25T13:09:18.498729286Z"
    }
   },
   "id": "17880696b49c7467"
  },
  {
   "cell_type": "code",
   "execution_count": 22,
   "outputs": [],
   "source": [
    "folder_name = 'resnet_artefacts'\n",
    "resnet_artefact_files = {'resnet18_pretrain_simclr':'1yEolUJYvk93S54c1b8zfE22ugVRy06GF',\n",
    "                         'resnet18_finetune':'1N8CdPJSOBqlb2hzceztXyhrQrxXahg2M'}"
   ],
   "metadata": {
    "collapsed": false,
    "ExecuteTime": {
     "end_time": "2023-11-25T13:09:18.908898476Z",
     "start_time": "2023-11-25T13:09:18.905890745Z"
    }
   },
   "id": "14e0868a4438c30d"
  },
  {
   "cell_type": "code",
   "execution_count": 11,
   "outputs": [
    {
     "name": "stderr",
     "output_type": "stream",
     "text": [
      "Downloading...\n",
      "From (uriginal): https://drive.google.com/uc?id=1yEolUJYvk93S54c1b8zfE22ugVRy06GF\n",
      "From (redirected): https://drive.google.com/uc?id=1yEolUJYvk93S54c1b8zfE22ugVRy06GF&confirm=t&uuid=5478eba2-79db-432d-aac2-f4d67c5e2e11\n",
      "To: /home/kgamegah/Documents/academic/UPC/DeepLearning/s3ima/s3ima/arch/SimCLR/prototype/resnet_pretrained.tar\n",
      "100%|██████████| 138M/138M [00:03<00:00, 42.2MB/s] \n"
     ]
    },
    {
     "name": "stdout",
     "output_type": "stream",
     "text": [
      "eval.ipynb  resnet_pretrained.tar\r\n"
     ]
    }
   ],
   "source": [
    "\n",
    "# download and extract model files\n",
    "# os.system('gdown https://drive.google.com/uc?id={}'.format(resnet_artefact_files['resnet18_finetune']))\n",
    "# os.system('unzip {}'.format(folder_name))\n",
    "# !ls\n",
    "\n",
    "import gdown\n",
    "\n",
    "drive_url = 'https://drive.google.com/file/d/1yEolUJYvk93S54c1b8zfE22ugVRy06GF/view?usp=drive_link'\n",
    "url = 'https://drive.google.com/uc?id=1yEolUJYvk93S54c1b8zfE22ugVRy06GF'\n",
    "output = 'resnet_pretrained.tar'\n",
    "gdown.download(url, output, quiet=False)\n",
    "# gdown.cached_download(url, output, postprocess=gdown.extractall)\n",
    "! ls"
   ],
   "metadata": {
    "collapsed": false,
    "ExecuteTime": {
     "end_time": "2023-11-25T12:50:03.536963866Z",
     "start_time": "2023-11-25T12:49:58.778487793Z"
    }
   },
   "id": "ebbb1972317b68d1"
  },
  {
   "cell_type": "code",
   "execution_count": 44,
   "outputs": [],
   "source": [
    "from s3ima.arch.ResNet18.model import ResNet18, BasicBlock\n",
    "from torch.utils.data import DataLoader, Subset\n",
    "import torchvision.transforms as transforms\n",
    "from torchvision import datasets\n",
    "import torch\n",
    "from collections import Counter\n",
    "from sklearn.model_selection import train_test_split"
   ],
   "metadata": {
    "collapsed": false,
    "ExecuteTime": {
     "end_time": "2023-11-25T13:38:02.824537849Z",
     "start_time": "2023-11-25T13:38:01.574203366Z"
    }
   },
   "id": "e084459ea1824aaa"
  },
  {
   "cell_type": "code",
   "execution_count": 55,
   "outputs": [
    {
     "name": "stdout",
     "output_type": "stream",
     "text": [
      "60000\n",
      "[5 0 4 ... 5 6 8]\n"
     ]
    },
    {
     "data": {
      "text/plain": "Counter({1: 6742,\n         7: 6265,\n         3: 6131,\n         2: 5958,\n         9: 5949,\n         0: 5923,\n         6: 5918,\n         8: 5851,\n         4: 5842,\n         5: 5421})"
     },
     "execution_count": 55,
     "metadata": {},
     "output_type": "execute_result"
    }
   ],
   "source": [
    "mnist_train_dataset = datasets.MNIST(\n",
    "    root='./data',\n",
    "    train=True,\n",
    "    download=True,\n",
    "    transform=transforms.ToTensor()\n",
    ")\n",
    "\n",
    "mnist_test_dataset = datasets.MNIST(\n",
    "    root='./data',\n",
    "    train=False,\n",
    "    download=False,\n",
    "    transform=transforms.ToTensor()\n",
    ")\n",
    "\n",
    "print(len(mnist_train_dataset))\n",
    "print(mnist_train_dataset.targets.numpy())\n",
    "# sample100 = Subset(dataset=mnist_train_dataset,indices=)\n",
    "Counter(mnist_train_dataset.targets.numpy())"
   ],
   "metadata": {
    "collapsed": false,
    "ExecuteTime": {
     "end_time": "2023-11-25T13:46:28.004762694Z",
     "start_time": "2023-11-25T13:46:27.940936932Z"
    }
   },
   "id": "c44749c5261ea484"
  },
  {
   "cell_type": "code",
   "execution_count": 65,
   "outputs": [],
   "source": [
    "# sample 100 data with same classes proportion \n",
    "train_idx, validation_idx = train_test_split(np.arange(len(mnist_train_dataset)),\n",
    "                                             train_size=100,\n",
    "                                             random_state=1,\n",
    "                                             shuffle=True,\n",
    "                                             stratify=mnist_train_dataset.targets.numpy())\n",
    "# Subset dataset for train and val\n",
    "train_dataset = Subset(mnist_train_dataset, train_idx)\n",
    "\n",
    "\n",
    "train_loader = DataLoader(train_dataset, \n",
    "                          batch_size=10,\n",
    "                          num_workers=8, \n",
    "                          drop_last=False, \n",
    "                          shuffle=True)\n",
    "\n",
    "test_loader = DataLoader(mnist_test_dataset, \n",
    "                         batch_size=256,\n",
    "                         num_workers=8, \n",
    "                         drop_last=False, \n",
    "                         shuffle=True)\n",
    "\n",
    "# Counter(train_dataset.targets.numpy())\n",
    "# train_loader.batch_size"
   ],
   "metadata": {
    "collapsed": false,
    "ExecuteTime": {
     "end_time": "2023-11-25T13:51:52.862776880Z",
     "start_time": "2023-11-25T13:51:52.814355251Z"
    }
   },
   "id": "93f6d32e1d17febe"
  },
  {
   "cell_type": "code",
   "execution_count": 66,
   "outputs": [
    {
     "name": "stdout",
     "output_type": "stream",
     "text": [
      "Using device: cpu\n"
     ]
    }
   ],
   "source": [
    "device = 'cuda' if torch.cuda.is_available() else 'cpu'\n",
    "print(\"Using device:\", device)"
   ],
   "metadata": {
    "collapsed": false,
    "ExecuteTime": {
     "end_time": "2023-11-25T13:51:54.618870956Z",
     "start_time": "2023-11-25T13:51:54.608980375Z"
    }
   },
   "id": "fd7d1b574820864d"
  },
  {
   "cell_type": "code",
   "execution_count": 67,
   "outputs": [],
   "source": [
    "checkpoint = torch.load('resnet_pretrained.tar', map_location=device)\n",
    "state_dict = checkpoint['state_dict']\n",
    "\n",
    "for k in list(state_dict.keys()):\n",
    "\n",
    "    if k.startswith('backbone.'):\n",
    "        if k.startswith('backbone') and not k.startswith('backbone.fc'):\n",
    "            # remove prefix\n",
    "            state_dict[k[len(\"backbone.\"):]] = state_dict[k]\n",
    "    del state_dict[k]"
   ],
   "metadata": {
    "collapsed": false,
    "ExecuteTime": {
     "end_time": "2023-11-25T13:51:57.488812992Z",
     "start_time": "2023-11-25T13:51:57.319176347Z"
    }
   },
   "id": "858c1a0206905648"
  },
  {
   "cell_type": "code",
   "execution_count": 68,
   "outputs": [],
   "source": [
    " model = ResNet18(num_layers=18,\n",
    "                  block=BasicBlock,\n",
    "                  num_classes=10,\n",
    "                  grayscale=True)\n",
    "model.to(device=device)\n",
    "\n",
    "\n",
    "log = model.load_state_dict(state_dict, strict=False)\n",
    "assert log.missing_keys == ['fc.weight', 'fc.bias']\n"
   ],
   "metadata": {
    "collapsed": false,
    "ExecuteTime": {
     "end_time": "2023-11-25T13:51:57.862104634Z",
     "start_time": "2023-11-25T13:51:57.794670139Z"
    }
   },
   "id": "b87b2f486174ba4e"
  },
  {
   "cell_type": "code",
   "execution_count": 69,
   "outputs": [],
   "source": [
    "optimizer = torch.optim.Adam(model.parameters(), lr=3e-4, weight_decay=0.0008)\n",
    "criterion = torch.nn.CrossEntropyLoss().to(device)"
   ],
   "metadata": {
    "collapsed": false,
    "ExecuteTime": {
     "end_time": "2023-11-25T13:51:59.854710212Z",
     "start_time": "2023-11-25T13:51:59.848343701Z"
    }
   },
   "id": "7a88b5423877460c"
  },
  {
   "cell_type": "code",
   "execution_count": 70,
   "outputs": [],
   "source": [
    "def accuracy(output, target, topk=(1,)):\n",
    "    \"\"\"Computes the accuracy over the k top predictions for the specified values of k\"\"\"\n",
    "    with torch.no_grad():\n",
    "        maxk = max(topk)\n",
    "        batch_size = target.size(0)\n",
    "\n",
    "        _, pred = output.topk(maxk, 1, True, True)\n",
    "        pred = pred.t()\n",
    "        correct = pred.eq(target.view(1, -1).expand_as(pred))\n",
    "\n",
    "        res = []\n",
    "        for k in topk:\n",
    "            correct_k = correct[:k].reshape(-1).float().sum(0, keepdim=True)\n",
    "            res.append(correct_k.mul_(100.0 / batch_size))\n",
    "        return res"
   ],
   "metadata": {
    "collapsed": false,
    "ExecuteTime": {
     "end_time": "2023-11-25T13:52:01.490538657Z",
     "start_time": "2023-11-25T13:52:01.483605832Z"
    }
   },
   "id": "4745617918207f59"
  },
  {
   "cell_type": "code",
   "execution_count": 72,
   "outputs": [
    {
     "name": "stdout",
     "output_type": "stream",
     "text": [
      "Epoch 0\tTop1 Train accuracy 23.0\tTop1 Test accuracy: 70.810546875\tTop5 test acc: 95.947265625\n",
      "Epoch 1\tTop1 Train accuracy 92.0\tTop1 Test accuracy: 88.92578125\tTop5 test acc: 98.974609375\n",
      "Epoch 2\tTop1 Train accuracy 97.0\tTop1 Test accuracy: 90.76171875\tTop5 test acc: 99.296875\n",
      "Epoch 3\tTop1 Train accuracy 99.0\tTop1 Test accuracy: 91.220703125\tTop5 test acc: 99.375\n",
      "Epoch 4\tTop1 Train accuracy 100.0\tTop1 Test accuracy: 91.30859375\tTop5 test acc: 99.462890625\n",
      "Epoch 5\tTop1 Train accuracy 98.0\tTop1 Test accuracy: 91.46484375\tTop5 test acc: 99.47265625\n",
      "Epoch 6\tTop1 Train accuracy 99.0\tTop1 Test accuracy: 91.81640625\tTop5 test acc: 99.4921875\n",
      "Epoch 7\tTop1 Train accuracy 100.0\tTop1 Test accuracy: 92.197265625\tTop5 test acc: 99.47265625\n",
      "Epoch 8\tTop1 Train accuracy 100.0\tTop1 Test accuracy: 92.1484375\tTop5 test acc: 99.5703125\n",
      "Epoch 9\tTop1 Train accuracy 99.0\tTop1 Test accuracy: 92.34375\tTop5 test acc: 99.580078125\n",
      "Epoch 10\tTop1 Train accuracy 100.0\tTop1 Test accuracy: 92.431640625\tTop5 test acc: 99.4140625\n",
      "Epoch 11\tTop1 Train accuracy 100.0\tTop1 Test accuracy: 92.490234375\tTop5 test acc: 99.580078125\n",
      "Epoch 12\tTop1 Train accuracy 100.0\tTop1 Test accuracy: 91.5625\tTop5 test acc: 99.39453125\n",
      "Epoch 13\tTop1 Train accuracy 99.0\tTop1 Test accuracy: 91.103515625\tTop5 test acc: 99.482421875\n",
      "Epoch 14\tTop1 Train accuracy 99.0\tTop1 Test accuracy: 91.07421875\tTop5 test acc: 99.287109375\n",
      "Epoch 15\tTop1 Train accuracy 99.0\tTop1 Test accuracy: 91.123046875\tTop5 test acc: 99.365234375\n",
      "Epoch 16\tTop1 Train accuracy 98.0\tTop1 Test accuracy: 91.845703125\tTop5 test acc: 99.443359375\n",
      "Epoch 17\tTop1 Train accuracy 100.0\tTop1 Test accuracy: 89.111328125\tTop5 test acc: 99.521484375\n",
      "Epoch 18\tTop1 Train accuracy 100.0\tTop1 Test accuracy: 91.953125\tTop5 test acc: 99.6484375\n",
      "Epoch 19\tTop1 Train accuracy 99.0\tTop1 Test accuracy: 92.021484375\tTop5 test acc: 99.62890625\n",
      "Epoch 20\tTop1 Train accuracy 98.0\tTop1 Test accuracy: 90.25390625\tTop5 test acc: 99.384765625\n",
      "Epoch 21\tTop1 Train accuracy 98.0\tTop1 Test accuracy: 90.87890625\tTop5 test acc: 99.51171875\n",
      "Epoch 22\tTop1 Train accuracy 100.0\tTop1 Test accuracy: 92.03125\tTop5 test acc: 99.560546875\n",
      "Epoch 23\tTop1 Train accuracy 99.0\tTop1 Test accuracy: 91.748046875\tTop5 test acc: 99.501953125\n",
      "Epoch 24\tTop1 Train accuracy 100.0\tTop1 Test accuracy: 91.533203125\tTop5 test acc: 99.47265625\n",
      "Epoch 25\tTop1 Train accuracy 100.0\tTop1 Test accuracy: 91.796875\tTop5 test acc: 99.482421875\n",
      "Epoch 26\tTop1 Train accuracy 100.0\tTop1 Test accuracy: 91.796875\tTop5 test acc: 99.521484375\n",
      "Epoch 27\tTop1 Train accuracy 100.0\tTop1 Test accuracy: 91.748046875\tTop5 test acc: 99.560546875\n",
      "Epoch 28\tTop1 Train accuracy 100.0\tTop1 Test accuracy: 91.54296875\tTop5 test acc: 99.55078125\n",
      "Epoch 29\tTop1 Train accuracy 99.0\tTop1 Test accuracy: 89.619140625\tTop5 test acc: 99.23828125\n",
      "Epoch 30\tTop1 Train accuracy 100.0\tTop1 Test accuracy: 88.818359375\tTop5 test acc: 98.994140625\n",
      "Epoch 31\tTop1 Train accuracy 100.0\tTop1 Test accuracy: 90.0390625\tTop5 test acc: 99.267578125\n",
      "Epoch 32\tTop1 Train accuracy 99.0\tTop1 Test accuracy: 91.259765625\tTop5 test acc: 99.326171875\n",
      "Epoch 33\tTop1 Train accuracy 100.0\tTop1 Test accuracy: 89.931640625\tTop5 test acc: 99.31640625\n",
      "Epoch 34\tTop1 Train accuracy 99.0\tTop1 Test accuracy: 92.236328125\tTop5 test acc: 99.443359375\n",
      "Epoch 35\tTop1 Train accuracy 97.0\tTop1 Test accuracy: 91.298828125\tTop5 test acc: 99.47265625\n",
      "Epoch 36\tTop1 Train accuracy 99.0\tTop1 Test accuracy: 90.91796875\tTop5 test acc: 99.35546875\n",
      "Epoch 37\tTop1 Train accuracy 100.0\tTop1 Test accuracy: 90.439453125\tTop5 test acc: 99.0234375\n",
      "Epoch 38\tTop1 Train accuracy 100.0\tTop1 Test accuracy: 90.625\tTop5 test acc: 99.189453125\n",
      "Epoch 39\tTop1 Train accuracy 99.0\tTop1 Test accuracy: 92.529296875\tTop5 test acc: 99.58984375\n",
      "Epoch 40\tTop1 Train accuracy 100.0\tTop1 Test accuracy: 91.34765625\tTop5 test acc: 99.560546875\n",
      "Epoch 41\tTop1 Train accuracy 99.0\tTop1 Test accuracy: 91.42578125\tTop5 test acc: 99.443359375\n",
      "Epoch 42\tTop1 Train accuracy 100.0\tTop1 Test accuracy: 90.5859375\tTop5 test acc: 99.287109375\n",
      "Epoch 43\tTop1 Train accuracy 99.0\tTop1 Test accuracy: 91.337890625\tTop5 test acc: 99.423828125\n",
      "Epoch 44\tTop1 Train accuracy 100.0\tTop1 Test accuracy: 89.00390625\tTop5 test acc: 99.189453125\n",
      "Epoch 45\tTop1 Train accuracy 98.0\tTop1 Test accuracy: 88.69140625\tTop5 test acc: 99.1015625\n",
      "Epoch 46\tTop1 Train accuracy 98.0\tTop1 Test accuracy: 86.708984375\tTop5 test acc: 98.564453125\n",
      "Epoch 47\tTop1 Train accuracy 100.0\tTop1 Test accuracy: 89.248046875\tTop5 test acc: 98.896484375\n",
      "Epoch 48\tTop1 Train accuracy 98.0\tTop1 Test accuracy: 90.673828125\tTop5 test acc: 99.169921875\n",
      "Epoch 49\tTop1 Train accuracy 98.0\tTop1 Test accuracy: 89.78515625\tTop5 test acc: 99.365234375\n",
      "Epoch 50\tTop1 Train accuracy 98.0\tTop1 Test accuracy: 91.484375\tTop5 test acc: 99.66796875\n",
      "Epoch 51\tTop1 Train accuracy 96.0\tTop1 Test accuracy: 91.083984375\tTop5 test acc: 99.609375\n",
      "Epoch 52\tTop1 Train accuracy 97.0\tTop1 Test accuracy: 92.4609375\tTop5 test acc: 99.638671875\n",
      "Epoch 53\tTop1 Train accuracy 99.0\tTop1 Test accuracy: 90.17578125\tTop5 test acc: 99.4140625\n",
      "Epoch 54\tTop1 Train accuracy 100.0\tTop1 Test accuracy: 90.478515625\tTop5 test acc: 99.521484375\n",
      "Epoch 55\tTop1 Train accuracy 100.0\tTop1 Test accuracy: 90.2734375\tTop5 test acc: 99.775390625\n",
      "Epoch 56\tTop1 Train accuracy 99.0\tTop1 Test accuracy: 90.48828125\tTop5 test acc: 99.677734375\n",
      "Epoch 57\tTop1 Train accuracy 98.0\tTop1 Test accuracy: 90.8203125\tTop5 test acc: 99.62890625\n",
      "Epoch 58\tTop1 Train accuracy 99.0\tTop1 Test accuracy: 90.9375\tTop5 test acc: 99.501953125\n",
      "Epoch 59\tTop1 Train accuracy 100.0\tTop1 Test accuracy: 90.517578125\tTop5 test acc: 99.306640625\n",
      "Epoch 60\tTop1 Train accuracy 99.0\tTop1 Test accuracy: 91.1328125\tTop5 test acc: 99.58984375\n",
      "Epoch 61\tTop1 Train accuracy 100.0\tTop1 Test accuracy: 91.201171875\tTop5 test acc: 99.580078125\n",
      "Epoch 62\tTop1 Train accuracy 99.0\tTop1 Test accuracy: 92.24609375\tTop5 test acc: 99.560546875\n",
      "Epoch 63\tTop1 Train accuracy 100.0\tTop1 Test accuracy: 92.392578125\tTop5 test acc: 99.619140625\n",
      "Epoch 64\tTop1 Train accuracy 97.0\tTop1 Test accuracy: 92.12890625\tTop5 test acc: 99.5703125\n",
      "Epoch 65\tTop1 Train accuracy 100.0\tTop1 Test accuracy: 89.189453125\tTop5 test acc: 99.384765625\n",
      "Epoch 66\tTop1 Train accuracy 95.0\tTop1 Test accuracy: 90.546875\tTop5 test acc: 99.19921875\n",
      "Epoch 67\tTop1 Train accuracy 99.0\tTop1 Test accuracy: 91.34765625\tTop5 test acc: 99.21875\n",
      "Epoch 68\tTop1 Train accuracy 100.0\tTop1 Test accuracy: 91.064453125\tTop5 test acc: 99.21875\n",
      "Epoch 69\tTop1 Train accuracy 100.0\tTop1 Test accuracy: 90.546875\tTop5 test acc: 99.169921875\n",
      "Epoch 70\tTop1 Train accuracy 100.0\tTop1 Test accuracy: 91.11328125\tTop5 test acc: 99.35546875\n",
      "Epoch 71\tTop1 Train accuracy 100.0\tTop1 Test accuracy: 91.6015625\tTop5 test acc: 99.404296875\n",
      "Epoch 72\tTop1 Train accuracy 100.0\tTop1 Test accuracy: 91.6015625\tTop5 test acc: 99.423828125\n",
      "Epoch 73\tTop1 Train accuracy 100.0\tTop1 Test accuracy: 91.6015625\tTop5 test acc: 99.4140625\n",
      "Epoch 74\tTop1 Train accuracy 100.0\tTop1 Test accuracy: 91.85546875\tTop5 test acc: 99.541015625\n",
      "Epoch 75\tTop1 Train accuracy 100.0\tTop1 Test accuracy: 91.962890625\tTop5 test acc: 99.580078125\n",
      "Epoch 76\tTop1 Train accuracy 100.0\tTop1 Test accuracy: 91.9921875\tTop5 test acc: 99.619140625\n",
      "Epoch 77\tTop1 Train accuracy 100.0\tTop1 Test accuracy: 92.578125\tTop5 test acc: 99.599609375\n",
      "Epoch 78\tTop1 Train accuracy 100.0\tTop1 Test accuracy: 93.28125\tTop5 test acc: 99.6875\n",
      "Epoch 79\tTop1 Train accuracy 100.0\tTop1 Test accuracy: 93.310546875\tTop5 test acc: 99.6875\n",
      "Epoch 80\tTop1 Train accuracy 100.0\tTop1 Test accuracy: 93.251953125\tTop5 test acc: 99.677734375\n",
      "Epoch 81\tTop1 Train accuracy 100.0\tTop1 Test accuracy: 91.484375\tTop5 test acc: 99.66796875\n",
      "Epoch 82\tTop1 Train accuracy 100.0\tTop1 Test accuracy: 91.8359375\tTop5 test acc: 99.609375\n",
      "Epoch 83\tTop1 Train accuracy 99.0\tTop1 Test accuracy: 92.802734375\tTop5 test acc: 99.501953125\n",
      "Epoch 84\tTop1 Train accuracy 100.0\tTop1 Test accuracy: 93.125\tTop5 test acc: 99.43359375\n",
      "Epoch 85\tTop1 Train accuracy 100.0\tTop1 Test accuracy: 93.232421875\tTop5 test acc: 99.375\n",
      "Epoch 86\tTop1 Train accuracy 100.0\tTop1 Test accuracy: 92.607421875\tTop5 test acc: 99.35546875\n",
      "Epoch 87\tTop1 Train accuracy 100.0\tTop1 Test accuracy: 92.822265625\tTop5 test acc: 99.443359375\n",
      "Epoch 88\tTop1 Train accuracy 100.0\tTop1 Test accuracy: 92.802734375\tTop5 test acc: 99.51171875\n",
      "Epoch 89\tTop1 Train accuracy 100.0\tTop1 Test accuracy: 93.046875\tTop5 test acc: 99.4921875\n",
      "Epoch 90\tTop1 Train accuracy 100.0\tTop1 Test accuracy: 93.125\tTop5 test acc: 99.53125\n",
      "Epoch 91\tTop1 Train accuracy 100.0\tTop1 Test accuracy: 93.388671875\tTop5 test acc: 99.462890625\n",
      "Epoch 92\tTop1 Train accuracy 100.0\tTop1 Test accuracy: 93.3984375\tTop5 test acc: 99.560546875\n",
      "Epoch 93\tTop1 Train accuracy 100.0\tTop1 Test accuracy: 93.046875\tTop5 test acc: 99.55078125\n",
      "Epoch 94\tTop1 Train accuracy 100.0\tTop1 Test accuracy: 93.291015625\tTop5 test acc: 99.580078125\n",
      "Epoch 95\tTop1 Train accuracy 100.0\tTop1 Test accuracy: 93.65234375\tTop5 test acc: 99.521484375\n",
      "Epoch 96\tTop1 Train accuracy 100.0\tTop1 Test accuracy: 93.720703125\tTop5 test acc: 99.58984375\n",
      "Epoch 97\tTop1 Train accuracy 100.0\tTop1 Test accuracy: 93.73046875\tTop5 test acc: 99.560546875\n",
      "Epoch 98\tTop1 Train accuracy 100.0\tTop1 Test accuracy: 93.8671875\tTop5 test acc: 99.619140625\n",
      "Epoch 99\tTop1 Train accuracy 100.0\tTop1 Test accuracy: 93.84765625\tTop5 test acc: 99.560546875\n"
     ]
    }
   ],
   "source": [
    "epochs = 100\n",
    "for epoch in range(epochs):\n",
    "    top1_train_accuracy = 0\n",
    "    for counter, (x_batch, y_batch) in enumerate(train_loader):\n",
    "        x_batch = x_batch.to(device)\n",
    "        y_batch = y_batch.to(device)\n",
    "\n",
    "        logits = model(x_batch)\n",
    "        loss = criterion(logits, y_batch)\n",
    "        top1 = accuracy(logits, y_batch, topk=(1,))\n",
    "        top1_train_accuracy += top1[0]\n",
    "\n",
    "        optimizer.zero_grad()\n",
    "        loss.backward()\n",
    "        optimizer.step()\n",
    "\n",
    "    top1_train_accuracy /= (counter + 1)\n",
    "    top1_accuracy = 0\n",
    "    top5_accuracy = 0\n",
    "    for counter, (x_batch, y_batch) in enumerate(test_loader):\n",
    "        x_batch = x_batch.to(device)\n",
    "        y_batch = y_batch.to(device)\n",
    "\n",
    "        logits = model(x_batch)\n",
    "\n",
    "        top1, top5 = accuracy(logits, y_batch, topk=(1,5))\n",
    "        top1_accuracy += top1[0]\n",
    "        top5_accuracy += top5[0]\n",
    "\n",
    "    top1_accuracy /= (counter + 1)\n",
    "    top5_accuracy /= (counter + 1)\n",
    "    print(f\"Epoch {epoch}\\t\"\n",
    "          f\"Top1 Train accuracy {top1_train_accuracy.item()}\\t\"\n",
    "          f\"Top1 Test accuracy: {top1_accuracy.item()}\\t\"\n",
    "          f\"Top5 test accuracy: {top5_accuracy.item()}\")"
   ],
   "metadata": {
    "collapsed": false,
    "ExecuteTime": {
     "end_time": "2023-11-25T14:04:43.851493977Z",
     "start_time": "2023-11-25T13:53:12.309952671Z"
    }
   },
   "id": "2c39b3e7e027aeb4"
  },
  {
   "cell_type": "code",
   "execution_count": null,
   "outputs": [],
   "source": [],
   "metadata": {
    "collapsed": false
   },
   "id": "5cd329be03b12c4"
  }
 ],
 "metadata": {
  "kernelspec": {
   "display_name": "Python 3",
   "language": "python",
   "name": "python3"
  },
  "language_info": {
   "codemirror_mode": {
    "name": "ipython",
    "version": 2
   },
   "file_extension": ".py",
   "mimetype": "text/x-python",
   "name": "python",
   "nbconvert_exporter": "python",
   "pygments_lexer": "ipython2",
   "version": "2.7.6"
  }
 },
 "nbformat": 4,
 "nbformat_minor": 5
}
