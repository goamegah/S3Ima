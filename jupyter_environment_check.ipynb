{
 "cells": [
  {
   "cell_type": "code",
   "execution_count": 4,
   "id": "initial_id",
   "metadata": {
    "collapsed": true,
    "ExecuteTime": {
     "end_time": "2023-11-26T18:35:00.998988688Z",
     "start_time": "2023-11-26T18:35:00.953337940Z"
    }
   },
   "outputs": [],
   "source": [
    "from python_environment_check import check_packages"
   ]
  },
  {
   "cell_type": "code",
   "execution_count": 5,
   "outputs": [
    {
     "name": "stdout",
     "output_type": "stream",
     "text": [
      "[FAIL] numpy 1.25.2, please upgrade to >= 1.26.2\n",
      "[OK] scipy 1.11.3\n",
      "[FAIL] pandas 2.1.1, please upgrade to >= 2.1.3\n",
      "[FAIL] matplotlib 3.7.2, please upgrade to >= 3.8.1\n",
      "[OK] sklearn 1.3.2\n",
      "[OK] watermark 2.4.3\n",
      "[FAIL] torch 2.0.1+cu117, please upgrade to >= 2.1.0+cu121\n",
      "[FAIL] torchvision 0.15.2+cu117, please upgrade to >= 0.16.0+cu121\n",
      "[FAIL] torchmetrics 1.0.3, please upgrade to >= 1.2.0\n",
      "[FAIL] transformers 4.31.0, please upgrade to >= 4.35.1\n",
      "[FAIL] lightning 2.0.7, please upgrade to >= 2.1.1\n"
     ]
    }
   ],
   "source": [
    "d = {\n",
    "    'numpy': '1.26.2',\n",
    "    'scipy': '1.11.3',\n",
    "    'pandas': '2.1.3',\n",
    "    'matplotlib': '3.8.1',\n",
    "    'sklearn': '1.3.2',\n",
    "    'watermark': '2.4.3',\n",
    "    'torch': '2.1.0+cu121',\n",
    "    'torchvision': '0.16.0+cu121',\n",
    "    'torchmetrics': '1.2.0',\n",
    "    'transformers': '4.35.1',\n",
    "    'lightning': '2.1.1',\n",
    "}\n",
    "check_packages(d)"
   ],
   "metadata": {
    "collapsed": false,
    "ExecuteTime": {
     "end_time": "2023-11-26T18:35:01.131034667Z",
     "start_time": "2023-11-26T18:35:01.126373886Z"
    }
   },
   "id": "30d9d00dc47c9ae0"
  },
  {
   "cell_type": "code",
   "execution_count": null,
   "outputs": [],
   "source": [],
   "metadata": {
    "collapsed": false
   },
   "id": "288b4d3c1d2c2635"
  }
 ],
 "metadata": {
  "kernelspec": {
   "display_name": "Python 3",
   "language": "python",
   "name": "python3"
  },
  "language_info": {
   "codemirror_mode": {
    "name": "ipython",
    "version": 2
   },
   "file_extension": ".py",
   "mimetype": "text/x-python",
   "name": "python",
   "nbconvert_exporter": "python",
   "pygments_lexer": "ipython2",
   "version": "2.7.6"
  }
 },
 "nbformat": 4,
 "nbformat_minor": 5
}
